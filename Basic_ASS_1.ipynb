{
 "cells": [
  {
   "cell_type": "code",
   "execution_count": null,
   "metadata": {},
   "outputs": [],
   "source": [
    "# 1. In the below elements which of them are values or an expression? eg:- values can be integer or string and expressions will be mathematical operators.\n",
    "# * \n",
    "# 'hello'\n",
    "# -87.8\n",
    "#  - \n",
    "#  / \n",
    "#  +\t\n",
    "#  6 \n"
   ]
  },
  {
   "cell_type": "code",
   "execution_count": null,
   "metadata": {},
   "outputs": [],
   "source": [
    "'''* -> operator\n",
    "    hello ->string\n",
    "    -87.8 ->float\n",
    "    - ->operator\n",
    "    / ->operator\n",
    "    + ->operator\n",
    "    6 ->integer'''"
   ]
  }
 ],
 "metadata": {
  "language_info": {
   "name": "python"
  },
  "orig_nbformat": 4
 },
 "nbformat": 4,
 "nbformat_minor": 2
}
